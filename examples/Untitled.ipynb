{
 "cells": [
  {
   "cell_type": "code",
   "execution_count": 3,
   "id": "b5359d43",
   "metadata": {},
   "outputs": [
    {
     "ename": "ModuleNotFoundError",
     "evalue": "No module named 'metagpt'",
     "output_type": "error",
     "traceback": [
      "\u001b[0;31m---------------------------------------------------------------------------\u001b[0m",
      "\u001b[0;31mModuleNotFoundError\u001b[0m                       Traceback (most recent call last)",
      "Cell \u001b[0;32mIn[3], line 2\u001b[0m\n\u001b[1;32m      1\u001b[0m \u001b[38;5;28;01mimport\u001b[39;00m \u001b[38;5;21;01masyncio\u001b[39;00m\n\u001b[0;32m----> 2\u001b[0m \u001b[38;5;28;01mfrom\u001b[39;00m \u001b[38;5;21;01mmetagpt\u001b[39;00m\u001b[38;5;21;01m.\u001b[39;00m\u001b[38;5;21;01mconfig\u001b[39;00m \u001b[38;5;28;01mimport\u001b[39;00m Config\n\u001b[1;32m      3\u001b[0m \u001b[38;5;28;01mfrom\u001b[39;00m \u001b[38;5;21;01mmetagpt\u001b[39;00m\u001b[38;5;21;01m.\u001b[39;00m\u001b[38;5;21;01mroles\u001b[39;00m \u001b[38;5;28;01mimport\u001b[39;00m Searcher\n",
      "\u001b[0;31mModuleNotFoundError\u001b[0m: No module named 'metagpt'"
     ]
    }
   ],
   "source": [
    "import asyncio\n",
    "from metagpt.config import Config\n",
    "from metagpt.roles import Searcher"
   ]
  },
  {
   "cell_type": "code",
   "execution_count": 2,
   "id": "c01e1f86",
   "metadata": {},
   "outputs": [
    {
     "name": "stdout",
     "output_type": "stream",
     "text": [
      "Requirement already satisfied: metagpt in /Users/leon/miniconda3/lib/python3.10/site-packages/metagpt-0.1-py3.10.egg (0.1)\n",
      "Requirement already satisfied: aiohttp==3.8.4 in /Users/leon/miniconda3/lib/python3.10/site-packages (from metagpt) (3.8.4)\n",
      "Requirement already satisfied: channels==4.0.0 in /Users/leon/miniconda3/lib/python3.10/site-packages/channels-4.0.0-py3.10.egg (from metagpt) (4.0.0)\n",
      "Requirement already satisfied: duckduckgo_search==2.9.4 in /Users/leon/miniconda3/lib/python3.10/site-packages/duckduckgo_search-2.9.4-py3.10.egg (from metagpt) (2.9.4)\n",
      "Requirement already satisfied: faiss_cpu==1.7.4 in /Users/leon/miniconda3/lib/python3.10/site-packages/faiss_cpu-1.7.4-py3.10-macosx-11.1-arm64.egg (from metagpt) (1.7.4)\n",
      "Requirement already satisfied: fire==0.4.0 in /Users/leon/miniconda3/lib/python3.10/site-packages (from metagpt) (0.4.0)\n",
      "Requirement already satisfied: langchain==0.0.231 in /Users/leon/miniconda3/lib/python3.10/site-packages/langchain-0.0.231-py3.10.egg (from metagpt) (0.0.231)\n",
      "Requirement already satisfied: loguru==0.6.0 in /Users/leon/miniconda3/lib/python3.10/site-packages/loguru-0.6.0-py3.10.egg (from metagpt) (0.6.0)\n",
      "Requirement already satisfied: meilisearch==0.21.0 in /Users/leon/miniconda3/lib/python3.10/site-packages/meilisearch-0.21.0-py3.10.egg (from metagpt) (0.21.0)\n",
      "Requirement already satisfied: numpy==1.24.3 in /Users/leon/miniconda3/lib/python3.10/site-packages (from metagpt) (1.24.3)\n",
      "Requirement already satisfied: openai==0.27.8 in /Users/leon/miniconda3/lib/python3.10/site-packages (from metagpt) (0.27.8)\n",
      "Requirement already satisfied: openpyxl in /Users/leon/miniconda3/lib/python3.10/site-packages (from metagpt) (3.1.2)\n",
      "Requirement already satisfied: pandas==1.4.1 in /Users/leon/miniconda3/lib/python3.10/site-packages (from metagpt) (1.4.1)\n",
      "Requirement already satisfied: pydantic==1.10.7 in /Users/leon/miniconda3/lib/python3.10/site-packages (from metagpt) (1.10.7)\n",
      "Requirement already satisfied: pytest==7.2.2 in /Users/leon/miniconda3/lib/python3.10/site-packages/pytest-7.2.2-py3.10.egg (from metagpt) (7.2.2)\n",
      "Requirement already satisfied: python_docx==0.8.11 in /Users/leon/miniconda3/lib/python3.10/site-packages/python_docx-0.8.11-py3.10.egg (from metagpt) (0.8.11)\n",
      "Requirement already satisfied: PyYAML==6.0 in /Users/leon/miniconda3/lib/python3.10/site-packages (from metagpt) (6.0)\n",
      "Requirement already satisfied: setuptools==65.6.3 in /Users/leon/miniconda3/lib/python3.10/site-packages (from metagpt) (65.6.3)\n",
      "Requirement already satisfied: tenacity==8.2.2 in /Users/leon/miniconda3/lib/python3.10/site-packages/tenacity-8.2.2-py3.10.egg (from metagpt) (8.2.2)\n",
      "Requirement already satisfied: tiktoken==0.3.3 in /Users/leon/miniconda3/lib/python3.10/site-packages/tiktoken-0.3.3-py3.10-macosx-11.1-arm64.egg (from metagpt) (0.3.3)\n",
      "Requirement already satisfied: tqdm==4.64.0 in /Users/leon/miniconda3/lib/python3.10/site-packages (from metagpt) (4.64.0)\n",
      "Requirement already satisfied: attrs>=17.3.0 in /Users/leon/miniconda3/lib/python3.10/site-packages (from aiohttp==3.8.4->metagpt) (23.1.0)\n",
      "Requirement already satisfied: charset-normalizer<4.0,>=2.0 in /Users/leon/miniconda3/lib/python3.10/site-packages (from aiohttp==3.8.4->metagpt) (2.0.4)\n",
      "Requirement already satisfied: multidict<7.0,>=4.5 in /Users/leon/miniconda3/lib/python3.10/site-packages (from aiohttp==3.8.4->metagpt) (6.0.4)\n",
      "Requirement already satisfied: async-timeout<5.0,>=4.0.0a3 in /Users/leon/miniconda3/lib/python3.10/site-packages (from aiohttp==3.8.4->metagpt) (4.0.2)\n",
      "Requirement already satisfied: yarl<2.0,>=1.0 in /Users/leon/miniconda3/lib/python3.10/site-packages (from aiohttp==3.8.4->metagpt) (1.9.2)\n",
      "Requirement already satisfied: frozenlist>=1.1.1 in /Users/leon/miniconda3/lib/python3.10/site-packages (from aiohttp==3.8.4->metagpt) (1.3.3)\n",
      "Requirement already satisfied: aiosignal>=1.1.2 in /Users/leon/miniconda3/lib/python3.10/site-packages (from aiohttp==3.8.4->metagpt) (1.3.1)\n",
      "Requirement already satisfied: Django>=3.2 in /Users/leon/miniconda3/lib/python3.10/site-packages (from channels==4.0.0->metagpt) (4.2.3)\n",
      "Requirement already satisfied: asgiref<4,>=3.5.0 in /Users/leon/miniconda3/lib/python3.10/site-packages (from channels==4.0.0->metagpt) (3.7.2)\n",
      "Requirement already satisfied: click>=8.1.3 in /Users/leon/miniconda3/lib/python3.10/site-packages (from duckduckgo_search==2.9.4->metagpt) (8.1.3)\n",
      "Requirement already satisfied: diskcache>=5.6.1 in /Users/leon/miniconda3/lib/python3.10/site-packages (from duckduckgo_search==2.9.4->metagpt) (5.6.1)\n",
      "Requirement already satisfied: requests>=2.29.0 in /Users/leon/miniconda3/lib/python3.10/site-packages (from duckduckgo_search==2.9.4->metagpt) (2.31.0)\n",
      "Requirement already satisfied: six in /Users/leon/miniconda3/lib/python3.10/site-packages (from fire==0.4.0->metagpt) (1.16.0)\n",
      "Requirement already satisfied: termcolor in /Users/leon/miniconda3/lib/python3.10/site-packages (from fire==0.4.0->metagpt) (2.3.0)\n",
      "Requirement already satisfied: SQLAlchemy<3,>=1.4 in /Users/leon/miniconda3/lib/python3.10/site-packages (from langchain==0.0.231->metagpt) (2.0.19)\n",
      "Requirement already satisfied: dataclasses-json<0.6.0,>=0.5.7 in /Users/leon/miniconda3/lib/python3.10/site-packages (from langchain==0.0.231->metagpt) (0.5.9)\n",
      "Requirement already satisfied: langchainplus-sdk<0.0.21,>=0.0.20 in /Users/leon/miniconda3/lib/python3.10/site-packages (from langchain==0.0.231->metagpt) (0.0.20)\n",
      "Requirement already satisfied: numexpr<3.0.0,>=2.8.4 in /Users/leon/miniconda3/lib/python3.10/site-packages (from langchain==0.0.231->metagpt) (2.8.4)\n",
      "Requirement already satisfied: openapi-schema-pydantic<2.0,>=1.2 in /Users/leon/miniconda3/lib/python3.10/site-packages (from langchain==0.0.231->metagpt) (1.2.4)\n",
      "Requirement already satisfied: camel-converter[pydantic] in /Users/leon/miniconda3/lib/python3.10/site-packages (from meilisearch==0.21.0->metagpt) (3.0.2)\n",
      "Requirement already satisfied: python-dateutil>=2.8.1 in /Users/leon/miniconda3/lib/python3.10/site-packages (from pandas==1.4.1->metagpt) (2.8.2)\n",
      "Requirement already satisfied: pytz>=2020.1 in /Users/leon/miniconda3/lib/python3.10/site-packages (from pandas==1.4.1->metagpt) (2023.3)\n",
      "Requirement already satisfied: typing-extensions>=4.2.0 in /Users/leon/miniconda3/lib/python3.10/site-packages (from pydantic==1.10.7->metagpt) (4.6.3)\n",
      "Requirement already satisfied: iniconfig in /Users/leon/miniconda3/lib/python3.10/site-packages (from pytest==7.2.2->metagpt) (2.0.0)\n",
      "Requirement already satisfied: packaging in /Users/leon/miniconda3/lib/python3.10/site-packages (from pytest==7.2.2->metagpt) (23.0)\n",
      "Requirement already satisfied: pluggy<2.0,>=0.12 in /Users/leon/miniconda3/lib/python3.10/site-packages (from pytest==7.2.2->metagpt) (1.0.0)\n",
      "Requirement already satisfied: exceptiongroup>=1.0.0rc8 in /Users/leon/miniconda3/lib/python3.10/site-packages (from pytest==7.2.2->metagpt) (1.1.1)\n",
      "Requirement already satisfied: tomli>=1.0.0 in /Users/leon/miniconda3/lib/python3.10/site-packages (from pytest==7.2.2->metagpt) (2.0.1)\n",
      "Requirement already satisfied: lxml>=2.3.2 in /Users/leon/miniconda3/lib/python3.10/site-packages (from python_docx==0.8.11->metagpt) (4.9.3)\n",
      "Requirement already satisfied: regex>=2022.1.18 in /Users/leon/miniconda3/lib/python3.10/site-packages (from tiktoken==0.3.3->metagpt) (2023.6.3)\n",
      "Requirement already satisfied: et-xmlfile in /Users/leon/miniconda3/lib/python3.10/site-packages (from openpyxl->metagpt) (1.1.0)\n",
      "Requirement already satisfied: marshmallow<4.0.0,>=3.3.0 in /Users/leon/miniconda3/lib/python3.10/site-packages (from dataclasses-json<0.6.0,>=0.5.7->langchain==0.0.231->metagpt) (3.19.0)\n",
      "Requirement already satisfied: marshmallow-enum<2.0.0,>=1.5.1 in /Users/leon/miniconda3/lib/python3.10/site-packages (from dataclasses-json<0.6.0,>=0.5.7->langchain==0.0.231->metagpt) (1.5.1)\n",
      "Requirement already satisfied: typing-inspect>=0.4.0 in /Users/leon/miniconda3/lib/python3.10/site-packages (from dataclasses-json<0.6.0,>=0.5.7->langchain==0.0.231->metagpt) (0.9.0)\n",
      "Requirement already satisfied: sqlparse>=0.3.1 in /Users/leon/miniconda3/lib/python3.10/site-packages (from Django>=3.2->channels==4.0.0->metagpt) (0.4.4)\n",
      "Requirement already satisfied: idna<4,>=2.5 in /Users/leon/miniconda3/lib/python3.10/site-packages (from requests>=2.29.0->duckduckgo_search==2.9.4->metagpt) (3.4)\n",
      "Requirement already satisfied: urllib3<3,>=1.21.1 in /Users/leon/miniconda3/lib/python3.10/site-packages (from requests>=2.29.0->duckduckgo_search==2.9.4->metagpt) (1.26.15)\n",
      "Requirement already satisfied: certifi>=2017.4.17 in /Users/leon/miniconda3/lib/python3.10/site-packages (from requests>=2.29.0->duckduckgo_search==2.9.4->metagpt) (2022.12.7)\n"
     ]
    },
    {
     "name": "stdout",
     "output_type": "stream",
     "text": [
      "Requirement already satisfied: mypy-extensions>=0.3.0 in /Users/leon/miniconda3/lib/python3.10/site-packages (from typing-inspect>=0.4.0->dataclasses-json<0.6.0,>=0.5.7->langchain==0.0.231->metagpt) (1.0.0)\n",
      "\n",
      "\u001b[1m[\u001b[0m\u001b[34;49mnotice\u001b[0m\u001b[1;39;49m]\u001b[0m\u001b[39;49m A new release of pip is available: \u001b[0m\u001b[31;49m23.1.2\u001b[0m\u001b[39;49m -> \u001b[0m\u001b[32;49m23.2\u001b[0m\n",
      "\u001b[1m[\u001b[0m\u001b[34;49mnotice\u001b[0m\u001b[1;39;49m]\u001b[0m\u001b[39;49m To update, run: \u001b[0m\u001b[32;49mpip install --upgrade pip\u001b[0m\n"
     ]
    }
   ],
   "source": [
    "!pip install metagpt"
   ]
  },
  {
   "cell_type": "code",
   "execution_count": null,
   "id": "b48f4dab",
   "metadata": {},
   "outputs": [],
   "source": [
    "async def main():\n",
    "    await Searcher().run(\"What are some good sun protection products?\")\n",
    "\n",
    "\n",
    "if __name__ == '__main__':\n",
    "    asyncio.run(main())"
   ]
  }
 ],
 "metadata": {
  "kernelspec": {
   "display_name": "Python 3 (ipykernel)",
   "language": "python",
   "name": "python3"
  },
  "language_info": {
   "codemirror_mode": {
    "name": "ipython",
    "version": 3
   },
   "file_extension": ".py",
   "mimetype": "text/x-python",
   "name": "python",
   "nbconvert_exporter": "python",
   "pygments_lexer": "ipython3",
   "version": "3.11.4"
  }
 },
 "nbformat": 4,
 "nbformat_minor": 5
}
